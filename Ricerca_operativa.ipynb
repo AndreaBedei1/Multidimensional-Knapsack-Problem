{
  "nbformat": 4,
  "nbformat_minor": 0,
  "metadata": {
    "colab": {
      "provenance": []
    },
    "kernelspec": {
      "name": "python3",
      "display_name": "Python 3"
    },
    "language_info": {
      "name": "python"
    }
  },
  "cells": [
    {
      "cell_type": "markdown",
      "source": [
        "# Elaborato di Ricerca Operativa: studio ed approfodnimento del MKP\n",
        "\n",
        "Andrea Bedei, Fabio Notaro  \n",
        "andrea.bedei2@studio.unibo.it, fabio.notaro2@studio.unibo.it"
      ],
      "metadata": {
        "id": "2ok4F0Ucvp29"
      }
    },
    {
      "cell_type": "markdown",
      "source": [
        "# Formulazione del problema:\n",
        "Il problema del knapsack multidimensionale (zaino multidimensionale) è un problema dell'ottimizzazione combinatoria che coinvolge il riempimento di uno zaino con oggetti di diverse dimensioni e valori, rispettando i vincoli di capacità dello zaino.\n",
        "\n",
        "La formulazione generale del problema del multidimensional knapsack è la seguente:\n"
      ],
      "metadata": {
        "id": "9DASTz06wSBW"
      }
    },
    {
      "cell_type": "markdown",
      "source": [
        "#Dati:\n",
        "\n",
        "\n",
        "*   Un insieme di oggetti, ciascuno caratterizzato da un valore e da un vettore di dimensioni che rappresentano le diverse dimensioni degli oggetti.\n",
        "*   Un vettore di capacità che indica i limiti massimi per ogni dimensione dello zaino."
      ],
      "metadata": {
        "id": "07gTJRtXw1lf"
      }
    },
    {
      "cell_type": "markdown",
      "source": [
        "#Obiettivo:\n",
        "Massimizzare la somma dei valori degli oggetti nello zaino, rispettando i vincoli di capacità."
      ],
      "metadata": {
        "id": "p2_M__Xfw2qi"
      }
    },
    {
      "cell_type": "markdown",
      "source": [
        "# Scrittura del modello matematico\n",
        "* Sia $n$ il numero di oggetti.\n",
        "* Sia $m$ il numero di dimensioni\n",
        "* Sia $p$ un vettore di lunghezza $n$ contenente i profitti degli oggetti.\n",
        "* Sia $W$ una matrice di pesi $n$ x $m$, dove $W_{ij}$ rappresenta il peso i-esimo dell'oggetto j-esimo\n",
        "* Sia $c$ un vettore di lunghezza $m$ che rappresenta le capacità massime per ogni dimensione dello zaino\n",
        "* Sia $x$ un vettore binario di variabili decisionali di lunghezza $n$, dove $x_j = 1$ se l'oggetto j-esimo è selezionato per essere messo nello zaino, altrimenti $x_j = 0$.\n",
        "\n",
        "Lo scopo è massimizzare la seguente funzione obiettivo:\n",
        "\n",
        "$$\\max z =  \\sum_{j=1}^{n} (p_j \\cdot x_j)$$ \n",
        "\n",
        "$$s.t \\sum_{j=1}^{n} (W_{ij} \\cdot x_j) \\leq c_i, \\quad \\text{per } i = 1, 2, \\ldots, m$$\n",
        "\n",
        "$$x_j \\in \\{0, 1\\}, \\quad \\text{per } j = 1, 2, \\ldots, n$$\n",
        "\n",
        "Per evitare soluzioni banali si assume che :\n",
        "\n",
        "* questa formulazione impone il vincolo che la somma delle dimensioni degli oggetti selezionati per lo zaino non superi le capacità massime in ogni dimensione $→ W_{ij} \\leq c_i $ $∀i\\in M, j\\in N$ \n",
        "\n",
        "* il vettore x viene limitato a valori binari per indicare se l'oggetto corrispondente viene selezionato o meno\n",
        "\n",
        "* $\\sum_{j=1}^nW_{ij} > c_i $ $∀i\\in M$.\n",
        "\n"
      ],
      "metadata": {
        "id": "uPDsjW20xQY3"
      }
    },
    {
      "cell_type": "markdown",
      "source": [
        "# Idea di base per la soluzione\n",
        "La soluzione al problema del multidimensional knapsack può essere ottenuta utilizzando una combinazione di algoritmi di programmazione dinamica e Branch and Bound.\n",
        "\n",
        "In particolare:\n",
        "* l'approccio di programmazione dinamica può essere utilizzato per risolvere un sotto-problema, noto come knapsack problem a una dimensione, per ciascuna dimensione dello zaino $→$ questo coinvolge la costruzione di una tabella che tiene traccia dei valori massimi ottenibili per ogni capacità della dimensione corrispondente\n",
        "* successivamente, l'approccio di branch and bound può essere utilizzato per esplorare in modo efficiente lo spazio delle soluzioni, riducendo il numero di possibili soluzioni da considerare tramite tecniche di potatura dell'albero delle soluzioni."
      ],
      "metadata": {
        "id": "lV_fc3WM178c"
      }
    },
    {
      "cell_type": "markdown",
      "source": [
        "# Teoria riguardante la soluzione del problema del knapsack multidimensionale attraverso la cooperazione tra programmazione dinamica e Branch and Bound\n",
        "\n"
      ],
      "metadata": {
        "id": "9Mnd88u03Irw"
      }
    },
    {
      "cell_type": "markdown",
      "source": [
        "# Introduzione\n",
        "I capitoli che seguono, in particolare, propongono una soluzione al problema del MKP esatta e cooperativa, che sfrutta l' utilizzo congiunto di euristiche di programmazione dinamica basate su un rilassamento surrogato e su una procedura di Branch and Bound.\n",
        "\n",
        "In letteratura è stato dimostrato che l'utilizzo dei metodi cooperativi per la soluzione del classico KP ha portato ad un dimezzamento dei tempi computazionali rispetto all'utilizzo singolo degli algoritmi citati.\n",
        "\n",
        "Data l'intrinseca difficolta del MKP, che ricordiamo essere un problema NP-hard, l'idea esplorata è quella di trasformare il problema originale in un classico Knapsack Problem.\n",
        "\n",
        "Ciò ci permetterà dunque di trovare la soluzione ottima per MKP o comunque una sua approssimazione accettabile.\n",
        "\n",
        "I numerosi metodi presentati in letteratura sono sostanzialmente derivati dai seguenti algoritmi:\n",
        "* Branch and Bound consiste in una completa enumerazione, i cui bound sono usati per cercare tra i nodi quelli che non possono condurre alla soluzione ottima\n",
        "* Dynamic programming può essere vista come un metodo di enumerazione breadth-first ma con l'aggiunta di tecniche di dominanza (che permettono di identificare le soluzioni \"dominanti\" all'interno di un insieme di soluzioni ammissibili)."
      ],
      "metadata": {
        "id": "5Qab8Zd-5Tdm"
      }
    },
    {
      "cell_type": "markdown",
      "source": [
        "# Metodo Branch and Bound\n",
        "\n",
        "Come anticipato, l'algoritmo che andremo ad implementare si basa anche sull'algoritmo di Branch and Bound.\n",
        "\n",
        "Il Branch and Bound appartiene  agli algoritmi di enumerazione, infatti utilizza procedure di bounding per ridurre le dimensioni dell’albero di ricerca. \n",
        "\n",
        "L’algoritmo calcola il bound di ogni nodo dell’albero ed identifica uno dei seguenti stati:\n",
        "* se il bound indica che non può essere ottenuta una soluzione migliore della migliore soluzione ammissibile attualmente disponibile, il nodo viene eliminato\n",
        "* invece, se il bound fornisce una soluzione ammissibile, si aggiorna la migliore soluzione ammissibile disponibile e il nodo viene eliminato\n",
        "* altrimenti, se non si sono verificati i casi precedenti, il problema viene ulteriormente decomposto in 2 sottoproblemi (fase di branching) $→$ uno che esplora la situazione in cui l'oggetto corrente è inserito nello zaino ed un altro che esplora la situazione contraria, in cui cioè l'oggetto corrente non è stato inserito."
      ],
      "metadata": {
        "id": "qyFJ7o_TMU9z"
      }
    },
    {
      "cell_type": "markdown",
      "source": [
        "# Rilassamento surrogato\n",
        "\n",
        "Il rilassamento surrogato del MKP può essere definito come segue:\n",
        "\n",
        "$$S(u)= \\max \\sum_{j=1}^{n}(p_j ⋅ x_j) $$\n",
        "$$s.t. \\sum_{i=1}^{m}u_i ⋅ \\sum_{j=1}^{n}W_{ij} ⋅ x_j \\le \\sum_{i=1}^{m}u_i ⋅ c_i$$\n",
        "$$x_j \\in \\{0, 1\\},∀j \\in N$$\n",
        "\n",
        "Sia adottata la seguente notazione: dato un problema $P$, indichiamo la sua soluzione ottima con $z^*$, mentre con $z_{UB}$ e $z_{LB}$ i valori di suoi upper e lower bound.\n",
        "\n",
        "Siccome $S(u)$ è un rilassamento del MKP, si ha che $z_{S(u)}^* ≥ z_{MKP}^*$ e che $z_{S(u^*)}^* = min $ $z_{S(u)}^* : u\\ge 0$.\n",
        "\n",
        "\n",
        "Tuttavia, siccome risolvere l'equazione precedente è un problema NP-hard, una stima ragionevole dei moltiplicatori può essere calcolata attraverso la rimozione dei vincoli di interezza di $x$.\n",
        "\n",
        "Quindi definiamo $LS(u)$ come il rilassamento continuo di $S(u)$:\n",
        "\n",
        "$$LS(u)= \\max \\sum_{j=1}^{n}(p_j ⋅ x_j) $$\n",
        "$$s.t. \\sum_{i=1}^{m}u_i ⋅ \\sum_{j=1}^{n}W_{ij} ⋅ x_j \\le \\sum_{i=1}^{m}u_i ⋅ c_i$$\n",
        "$$x_j \\in [0, 1],∀j \\in N$$\n",
        "\n",
        "I moltiplicatori surrogati ottimali continui possono essere derivati da $u^0$, che soddisfa l'uguaglianza $z_{LS(u^0)}^*=$ $ min $ $z_{LS(u)}^*$.\n",
        "\n",
        "Per calcolare $u^0$, partiamo considerando il  problema di programmazione lineare (LP) corrispondente a MKP.\n",
        "\n",
        "Denotiamo con $λ^0 = (λ_{1}^0,λ_{2}^0,...,λ_{m}^0,) ≥ 0$ le variabili duali ottimali associate al vincolo: $$ \\sum_{j=1}^{n} W_{i,j} ⋅ x_j ≤ c_i, ∀j \\in M  $$\n",
        "Quindi i moltiplicatori continui ottimali surrogati possono essere ricavati attraverso l'equazione: $z_{S(u^*)}^* = min $ $z_{S(u)}^* : u\\ge 0$ ed essi soddisfano la condizione $u^0 = λ^0$.\n",
        "\n",
        "A questo punto abbiamo la seguente relazione di ordine:\n",
        "$$z_{LP}^* = z_{LS(u^0)}^* ≥ z_{S(u^*)}^* ≥ z_{MKP}^* $$\n",
        "\n"
      ],
      "metadata": {
        "id": "ju1FaaqHaux6"
      }
    },
    {
      "cell_type": "markdown",
      "source": [
        "# Programmazione dinamica ibrida\n",
        "\n",
        "Denotiamo per semplicità:\n",
        "\n",
        "\n",
        "*   $w_j$ rappresenta la  $\\sum_{i=1}^{m} u_{i}^0 ⋅ W_{i,j}$\n",
        "*   $c$ rappresenta la  $\\sum_{i=1}^{m} u_{i}^0 ⋅ c_{i}$\n",
        "\n",
        "A questo punto il problema diventa:\n",
        "$$S(u^0)= \\max \\sum_{j=1}^{n}(p_j ⋅ x_j) $$\n",
        "$$s.t. \\sum_{j=1}^{n}W_{ij} ⋅ x_j \\le c $$\n",
        "$$x_j \\in \\{0, 1\\},∀j \\in N$$\n",
        "\n",
        "Applichiamo l'algoritmo di programmazione dinamica a $S(u^0)$ e memorizziamo tutte le possibili soluzioni di MKP trovate.\n",
        "\n",
        "Ad ogni passo $k \\in N$ bisogna aggiornare una lista di coppie così definita:\n",
        "\n",
        "$L_k = (w, p) : w=\\sum_{i=1}^k (w_j ⋅ x_j) \\le c,p=\\sum_{i=1}^k (p_j ⋅ x_j)$\n",
        "\n",
        "Gli stati vengono quindi ordinati nella lista in base al loro upper bound associato.\n",
        "\n",
        "Sia $(w, p)$ lo stato generato al passo k dell'algoritmo. \n",
        "\n",
        "Possiamo definire il sottoproblema associato a $(w, p)$ come:\n",
        "\n",
        "$$S(u^0)_{(w, p)}= \\max \\sum_{j=k+1}^{n}(p_j ⋅ x_j + p) $$\n",
        "$$s.t. \\sum_{j=k+1}^{n}w_j ⋅ x_j \\le c-w$$\n",
        "$$x_j \\in \\{0, 1\\},j \\in \\{k+1..n\\}$$\n",
        "\n",
        "Dato uno stato $(w, p)$:\n",
        "* un upper bound è ottenibile risolvendo il rilassamento lineare del problema sopra\n",
        "* invece, un lower bound può essere ottenuto risolvendo il problema sopra con un algoritmo greedy.\n",
        "\n",
        "\n",
        "\n",
        "\n",
        "\n",
        "\n"
      ],
      "metadata": {
        "id": "8svIuh5vnd1S"
      }
    },
    {
      "cell_type": "markdown",
      "source": [
        "# Implementazione MKP tramite programmazione dinamica ibrida\n",
        "Nel presente capitolo è contenuta l'implementazione pratica degli algoritmi tramite le nozioni teoriche enunciate in precedenza.\n",
        "\n",
        "Partiamo dalla definizione dell'istanza del problema:"
      ],
      "metadata": {
        "id": "fQZEb-O4P6GU"
      }
    },
    {
      "cell_type": "code",
      "source": [
        "profittiOggetti = [10, 15, 20, 13] \n",
        "dimensioniOggetti = [[2, 3, 4], [1, 2, 3], [4, 5, 6], [3, 4, 5]]\n",
        "dimensioniMassimeZaino = [7, 9, 11] "
      ],
      "metadata": {
        "id": "H5U93xLL3Y6x"
      },
      "execution_count": null,
      "outputs": []
    },
    {
      "cell_type": "markdown",
      "source": [
        "Proseguiamo definendo le dimensioni $N$ e $M$ del problema:"
      ],
      "metadata": {
        "id": "v981yGmB3dA7"
      }
    },
    {
      "cell_type": "code",
      "source": [
        "n = len(profittiOggetti)\n",
        "m = len(dimensioniMassimeZaino)"
      ],
      "metadata": {
        "id": "G7Wuajjp3rHK"
      },
      "execution_count": null,
      "outputs": []
    },
    {
      "cell_type": "markdown",
      "source": [
        "Per calcolare una stima iniziale del valore ottimo, ossia un lower bound della soluzione, utilizzeremo un algoritmo Greedy che prevede di trovare i rapporti tra profitto e dimensione di ogni oggetto, in maniera del tutto analoga a quanto visto a lezione:"
      ],
      "metadata": {
        "id": "cAoKfrgm65w9"
      }
    },
    {
      "cell_type": "code",
      "source": [
        "rapporti = [profittiOggetti[i] / sum(dimensioniOggetti[i]) for i in range(n)]"
      ],
      "metadata": {
        "id": "9ARS7IKz8Bs1"
      },
      "execution_count": null,
      "outputs": []
    },
    {
      "cell_type": "markdown",
      "source": [
        "Calcoliamo una stima iniziale del valore ottimo utilizzando il concetto di rilassamento surrogato introdotto nella parte teorica e l'algoritmo Greedy.\n",
        "\n",
        "In particolare, si calcola la somma dei prodotti tra le dimensioni rimanenti dello zaino e i rapporti profitto / dimensione degli oggetti rimanenti, ordinati in modo decrescente.\n",
        "\n",
        "Successivamente, la funzione controlla se ogni oggetto può essere messo nello zaino e, se questo è vero, l'oggetto viene inserito, la sua contribuzione al valore ottimo viene aggiunta alla stima superiore e le dimensioni rimanenti dello zaino vengono ridotte di conseguenza. \n",
        "\n",
        "Se invece l'oggetto non può essere inserito, viene calcolato il valore massimo che si può ottenere utilizzando le dimensioni rimanenti dello zaino e gli oggetti rimanenti.\n",
        "\n",
        "Questa stima viene utilizzata poi durante la ricerca in profondità (algoritmo Branch and Bound) per effettuare il pruning (cioè il taglio di stati non promettenti) in modo efficiente."
      ],
      "metadata": {
        "id": "aaAxV0188UXB"
      }
    },
    {
      "cell_type": "code",
      "source": [
        "dimensioni_rimaste = list(dimensioniMassimeZaino)\n",
        "stima_superiore = 0\n",
        "for rapporto, dimensioni_oggetto in sorted(zip(rapporti, dimensioniOggetti), reverse=True):\n",
        "    if all(dimensione <= dimensione_rimasta for dimensione, dimensione_rimasta in zip(dimensioni_oggetto, dimensioni_rimaste)):\n",
        "        stima_superiore += rapporto * sum(dimensioni_oggetto)\n",
        "        dimensioni_rimaste = [dimensione_rimasta - dimensione for dimensione_rimasta, dimensione in zip(dimensioni_rimaste, dimensioni_oggetto)]\n",
        "    else:\n",
        "        stima_superiore += rapporto * sum(dimensione_rimasta * rapporto for dimensione_rimasta, rapporto in zip(dimensioni_rimaste, rapporti))\n",
        "        break"
      ],
      "metadata": {
        "id": "gNsOB3bN8nkT"
      },
      "execution_count": null,
      "outputs": []
    },
    {
      "cell_type": "markdown",
      "source": [
        "Serve poi inizializzare la tabella per la programmazione dinamica, struttura dati fondamentale che permette di manetenere in ogni cella lo stato di un sottoproblema, evitando di risolverlo più volte:"
      ],
      "metadata": {
        "id": "knAMu7KVCpWC"
      }
    },
    {
      "cell_type": "code",
      "source": [
        "tabella_pd = [[0] * (sum(dimensioniMassimeZaino) + 1) for _ in range(n + 1)]"
      ],
      "metadata": {
        "id": "2JraXFYnC6Q6"
      },
      "execution_count": null,
      "outputs": []
    },
    {
      "cell_type": "markdown",
      "source": [
        "Procediamo implementando la parte centrale dell'algoritmo di programmazione dinamica.\n",
        "\n",
        "I due cicli innestati iterano su tutte le possibili sottoistanze del problema, ovvero studiano ogni combinazione di oggetti e di capacità dello zaino. \n",
        "\n",
        "All'inizio del ciclo, per ogni combinazione si copia il valore della cella precedente, che rappresenta la soluzione migliore ottenuta fino a quel punto.\n",
        "\n",
        "Successivamente, si controlla se l'oggetto corrente può essere inserito nello zaino con la capacità corrente. \n",
        "\n",
        "Se ciò è possibile, si prende il valore della cella che rappresenta lo stato del problema considerando solo i precedenti oggetti e la capacità massima precedente e si somma al suo profitto.\n",
        "\n",
        "Se questa soluzione è migliore di quella trovata fino a quel momento, allora si aggiorna il valore della cella corrente.\n",
        "\n",
        "Alla fine, la soluzione ottima del problema globale sarà contenuta nell'ultima cella della tabella."
      ],
      "metadata": {
        "id": "b0yNU5CCDRsG"
      }
    },
    {
      "cell_type": "code",
      "source": [
        "for i in range(1, n + 1):\n",
        "    for j in range(1, sum(dimensioniMassimeZaino) + 1):\n",
        "        tabella_pd[i][j] = tabella_pd[i - 1][j]\n",
        "        if all(dimensione <= j for dimensione in dimensioniOggetti[i - 1]):\n",
        "            tabella_pd[i][j] = max(tabella_pd[i][j], tabella_pd[i - 1][j - sum(dimensioniOggetti[i - 1])] + profittiOggetti[i - 1])"
      ],
      "metadata": {
        "id": "9pQquNuZEhK9"
      },
      "execution_count": null,
      "outputs": []
    },
    {
      "cell_type": "markdown",
      "source": [
        "\n",
        "Serve poi inizializzare una pila, utilizzata per mantenere i nodi da visitare, ovvero quelli che sono stati scoperti ma non sono ancora stati esplorati. \n",
        "\n",
        "In pratica, durante l'esplorazione del grafo, ogni volta che l'algoritmo incontra un nuovo nodo da esplorare, questo viene inserito in cima alla pila:"
      ],
      "metadata": {
        "id": "Ya_fUS7NGpa_"
      }
    },
    {
      "cell_type": "code",
      "source": [
        "stack = [(n, tuple(dimensioniMassimeZaino), 0, 0)]"
      ],
      "metadata": {
        "id": "VFUgFA9rHS3d"
      },
      "execution_count": null,
      "outputs": []
    },
    {
      "cell_type": "markdown",
      "source": [
        "Inizializziamo anche una variabile per memorizzare il valore della soluzione ottima:"
      ],
      "metadata": {
        "id": "6xluS6qCHa1h"
      }
    },
    {
      "cell_type": "code",
      "source": [
        "soluzione_ottima = 0"
      ],
      "metadata": {
        "id": "Cc_3NmZCHeso"
      },
      "execution_count": null,
      "outputs": []
    },
    {
      "cell_type": "markdown",
      "source": [
        "Procediamo nell'algoritmo con la parte dedicata alla ricerca in profondità, utile a generare tutte le possibili combinazioni di oggetti da inserire nello zaino e a trovare la soluzione ottimale tra queste combinazioni.\n",
        "\n",
        "L'algoritmo parte dallo stato iniziale (nessun oggetto inserito nello zaino) e genera tutti i possibili successori di questo stato, ovvero tutte le possibili combinazioni di oggetti da inserire o da escludere dallo zaino. \n",
        "\n",
        "Per ogni successore generato, l'algoritmo calcola il suo valore (ovvero il profitto totale degli oggetti inseriti nello zaino) e lo confronta con il valore della soluzione ottimale finora trovata: se il valore del successore è maggiore, allora il successore diventa lo stato corrente dell'algoritmo e la ricerca continua a partire da questo nuovo stato. \n",
        "\n",
        "Se invece il valore del successore è minore o uguale al valore della soluzione ottimale, allora l'algoritmo abbandona il successore e cerca altri possibili successori.\n",
        "\n",
        "In questo modo, l'algoritmo visita tutte le possibili combinazioni di oggetti da inserire nello zaino, eliminando i rami dell'albero di ricerca che non portano a soluzioni migliori di quella già trovata, fino a trovare la soluzione ottimale.\n",
        "\n",
        "Il codice seguente implementa l'algoritmo di branching. \n",
        "\n",
        "Esso combina lo spazio delle soluzioni e l'idea del \"bounding\" (vincolo) per eliminare sottoinsiemi di soluzioni non promettenti."
      ],
      "metadata": {
        "id": "i1K1oV14H0Rv"
      }
    },
    {
      "cell_type": "code",
      "source": [
        "while stack:\n",
        "    i, dimensioni_rimaste, valore, peso = stack.pop()\n",
        "    # Verifica se il peso corrente supera la somma delle dimensioni massime dello zaino.\n",
        "    if peso > sum(dimensioniMassimeZaino):\n",
        "        continue\n",
        "    # Verifica se la somma del valore corrente e una stima superiore è inferiore alla soluzione ottima finora trovata.\n",
        "    if valore + stima_superiore < soluzione_ottima:\n",
        "        continue\n",
        "    #  Verifica se si è arrivati all'ultimo elemento da considerare. In tal caso si controlla se il valore corrente supera la soluzione ottima finora trovata.\n",
        "    if i == 0:\n",
        "        soluzione_ottima = max(soluzione_ottima, valore)\n",
        "        continue\n",
        "    # Verifica se tutte le dimensioni dell'oggetto corrente sono <= alle dimensioni rimanenti dello zaino.\n",
        "    if all(dimensione <= dimensione_rimasta for dimensione, dimensione_rimasta in zip(dimensioniOggetti[i - 1], dimensioni_rimaste)):\n",
        "        # Crea uno stato in cui l'oggetto corrente è inserito nello zaino.\n",
        "        stack.append((i - 1, tuple(dimensione_rimasta - dimensione for dimensione_rimasta, dimensione in zip(dimensioni_rimaste, dimensioniOggetti[i - 1])), valore + profittiOggetti[i - 1], peso + sum(dimensioniOggetti[i - 1])))\n",
        "    # Cioè viene utilizzata per eliminare i rami dell'albero di ricerca che non portano a una soluzione ottima.\n",
        "    # Se il valore corrente più una stima superiore del valore rimanente (stima_superiore) è minore della soluzione ottima trovata finora, allora si può interrompere l'esplorazione di quel ramo.\n",
        "    if tabella_pd[i - 1][peso] + valore + stima_superiore - tabella_pd[i][peso] < soluzione_ottima:\n",
        "        continue\n",
        "    # Creo uno stato in cui l'oggetto corrente non è inserito nello zaino.\n",
        "    stack.append((i - 1, dimensioni_rimaste, valore, peso))"
      ],
      "metadata": {
        "id": "SRQ0BlMOIWMX"
      },
      "execution_count": null,
      "outputs": []
    },
    {
      "cell_type": "markdown",
      "source": [
        "Finalemente è possibile visualizzare il valore della soluzione ottima troavata:"
      ],
      "metadata": {
        "id": "DkSGmdxJKJW-"
      }
    },
    {
      "cell_type": "code",
      "source": [
        "print(soluzione_ottima)"
      ],
      "metadata": {
        "colab": {
          "base_uri": "https://localhost:8080/"
        },
        "id": "fGYmb1BFKN7q",
        "outputId": "669f50e3-5cc7-47dd-959d-89037dab930a"
      },
      "execution_count": null,
      "outputs": [
        {
          "output_type": "stream",
          "name": "stdout",
          "text": [
            "35\n"
          ]
        }
      ]
    },
    {
      "cell_type": "markdown",
      "source": [
        "# Soluzione del problema utilizzando il solver pulp\n",
        "Per valutare la correttezza della soluzione dell'algoritmo, facciamo calcolare la soluzione del problema anche a un solver commerciale:"
      ],
      "metadata": {
        "id": "szWabEX6WGLI"
      }
    },
    {
      "cell_type": "code",
      "source": [
        "!pip install pulp\n",
        "from pulp import *\n",
        "\n",
        "def knapsack_multidimensional(profittiOggetti, dimensioniOggetti, dimensioniMassimeZaino):\n",
        "    n = len(profittiOggetti) \n",
        "    m = len(dimensioniMassimeZaino) \n",
        "\n",
        "    # Definiamo il problema di ottimizzazione come problema di massimizzazione.\n",
        "    prob = LpProblem(\"Knapsack Multidimensionale\", LpMaximize)\n",
        "\n",
        "    # Definiamo le variabili decisionali, una per ogni oggetto.\n",
        "    x = [LpVariable(f\"x{i}\", lowBound=0, cat=\"Integer\", upBound=1) for i in range(n)]\n",
        "\n",
        "    # Definiamo la funzione obiettivo.\n",
        "    prob += lpSum([profittiOggetti[i] * x[i] for i in range(n)])\n",
        "\n",
        "    # Definiamo i vincoli di capacità per ciascuna dimensione dello zaino.\n",
        "    for j in range(m):\n",
        "        prob += lpSum([dimensioniOggetti[i][j] * x[i] for i in range(n)]) <= dimensioniMassimeZaino[j]\n",
        "\n",
        "    # Risoluzione del problema.\n",
        "    prob.solve()\n",
        "\n",
        "    # Verifica dell'ottimalità della soluzione inviduata.\n",
        "    if prob.status != LpStatusOptimal:\n",
        "        return None\n",
        "\n",
        "    soluzione = []\n",
        "    for i in range(n):\n",
        "        soluzione.append(int(value(x[i])))\n",
        "\n",
        "    z = sum([profittiOggetti[i] * soluzione[i] for i in range(n)])\n",
        "\n",
        "    return soluzione, z"
      ],
      "metadata": {
        "id": "2zt4tKfITymS",
        "colab": {
          "base_uri": "https://localhost:8080/"
        },
        "outputId": "162a4a90-b8d4-4987-e4ce-8885bb929b19"
      },
      "execution_count": null,
      "outputs": [
        {
          "output_type": "stream",
          "name": "stdout",
          "text": [
            "Looking in indexes: https://pypi.org/simple, https://us-python.pkg.dev/colab-wheels/public/simple/\n",
            "Requirement already satisfied: pulp in /usr/local/lib/python3.10/dist-packages (2.7.0)\n"
          ]
        }
      ]
    },
    {
      "cell_type": "code",
      "source": [
        "print(knapsack_multidimensional(profittiOggetti, dimensioniOggetti, dimensioniMassimeZaino))"
      ],
      "metadata": {
        "colab": {
          "base_uri": "https://localhost:8080/"
        },
        "id": "-937q7NLUAwX",
        "outputId": "8afb51ac-6efc-424a-8a37-5c182349e07a"
      },
      "execution_count": null,
      "outputs": [
        {
          "output_type": "stream",
          "name": "stdout",
          "text": [
            "([0, 1, 1, 0], 35)\n"
          ]
        }
      ]
    },
    {
      "cell_type": "markdown",
      "source": [
        "Come si nota, la soluzione del solver equivale a quella dell'algoritmo ibrido da noi studiato, indicandone la correttezza."
      ],
      "metadata": {
        "id": "ZQCq-TlnW_o7"
      }
    },
    {
      "cell_type": "markdown",
      "source": [
        "La complessità computazionale del nostro codice dipende dal metodo utilizzato per calcolare la stima iniziale del valore ottimo, ma è dell'ordine di $O(nW log n)$, dove $n$ è il numero di oggetti e $W$ è la somma delle dimensioni massime dello zaino.\n",
        "\n",
        "In particolare, la parte della funzione che utilizza la programmazione dinamica per calcolare la tabella dei valori ha complessità $O(nW)$, poiché deve esaminare tutti i sottoinsiemi possibili di oggetti e per ciascuno di essi deve calcolare il valore massimo che può essere ottenuto."
      ],
      "metadata": {
        "id": "Bl3UwH_5c82w"
      }
    },
    {
      "cell_type": "markdown",
      "source": [
        "# Confronto tra le performance dei due algoritmi"
      ],
      "metadata": {
        "id": "4vv-UhtakAqt"
      }
    },
    {
      "cell_type": "markdown",
      "source": [
        "Per comodità creiamo la funzione per la risoluzione del problema tramite programmazione dinamica ibrida:"
      ],
      "metadata": {
        "id": "2uLgiOffkVa4"
      }
    },
    {
      "cell_type": "code",
      "source": [
        "def MKP_Programmazione_dinamica_ibrida(profittiOggetti, dimensioniOggetti, dimensioniMassimeZaino, stampa=False):\n",
        "    n = len(profittiOggetti)\n",
        "    m = len(dimensioniMassimeZaino)\n",
        "    rapporti = [profittiOggetti[i] / sum(dimensioniOggetti[i]) for i in range(n)]\n",
        "    dimensioni_rimaste = list(dimensioniMassimeZaino)\n",
        "    stima_superiore = 0\n",
        "    \n",
        "    for rapporto, dimensioni_oggetto in sorted(zip(rapporti, dimensioniOggetti), reverse=True):\n",
        "        if all(dimensione <= dimensione_rimasta for dimensione, dimensione_rimasta in zip(dimensioni_oggetto, dimensioni_rimaste)):\n",
        "            stima_superiore += rapporto * sum(dimensioni_oggetto)\n",
        "            dimensioni_rimaste = [dimensione_rimasta - dimensione for dimensione_rimasta, dimensione in zip(dimensioni_rimaste, dimensioni_oggetto)]\n",
        "        else:\n",
        "            stima_superiore += rapporto * sum(dimensione_rimasta * rapporto for dimensione_rimasta, rapporto in zip(dimensioni_rimaste, rapporti))\n",
        "            break\n",
        "    tabella_pd = [[0] * (sum(dimensioniMassimeZaino) + 1) for _ in range(n + 1)]\n",
        "    for i in range(1, n + 1):\n",
        "        for j in range(1, sum(dimensioniMassimeZaino) + 1):\n",
        "            tabella_pd[i][j] = tabella_pd[i - 1][j]\n",
        "            if all(dimensione <= j for dimensione in dimensioniOggetti[i - 1]):\n",
        "                tabella_pd[i][j] = max(tabella_pd[i][j], tabella_pd[i - 1][j - sum(dimensioniOggetti[i - 1])] + profittiOggetti[i - 1])\n",
        "    stack = [(n, tuple(dimensioniMassimeZaino), 0, 0)]\n",
        "    soluzione_ottima = 0\n",
        "    while stack:\n",
        "        i, dimensioni_rimaste, valore, peso = stack.pop()\n",
        "        if peso > sum(dimensioniMassimeZaino):\n",
        "            continue\n",
        "        if valore + stima_superiore < soluzione_ottima:\n",
        "            continue\n",
        "        if i == 0:\n",
        "            if stampa and soluzione_ottima!=max(soluzione_ottima, valore):\n",
        "                print(soluzione_ottima)\n",
        "            soluzione_ottima = max(soluzione_ottima, valore)\n",
        "            continue\n",
        "        if all(dimensione <= dimensione_rimasta for dimensione, dimensione_rimasta in zip(dimensioniOggetti[i - 1], dimensioni_rimaste)):\n",
        "            stack.append((i - 1, tuple(dimensione_rimasta - dimensione for dimensione_rimasta, dimensione in zip(dimensioni_rimaste, dimensioniOggetti[i - 1])), valore + profittiOggetti[i - 1], peso + sum(dimensioniOggetti[i - 1])))\n",
        "        if tabella_pd[i - 1][peso] + valore + stima_superiore - tabella_pd[i][peso] < soluzione_ottima:\n",
        "            continue\n",
        "        stack.append((i - 1, dimensioni_rimaste, valore, peso))\n",
        "    return soluzione_ottima\n",
        "\n"
      ],
      "metadata": {
        "id": "66iV3ob3ks0x"
      },
      "execution_count": null,
      "outputs": []
    },
    {
      "cell_type": "markdown",
      "source": [
        "Creiamo un'istanza un po' più complessa per confrontare i tempi di elaborazione dei due algoritmi."
      ],
      "metadata": {
        "id": "QqWNrw2fkNfN"
      }
    },
    {
      "cell_type": "code",
      "source": [
        "import random\n",
        "numOggetti = 23\n",
        "dimensioniMassimeZaino = [511, 213, 777]\n",
        "dimensioniMassime = [int(dimensioniMassimeZaino[0]/5), int(dimensioniMassimeZaino[1]/5), int(dimensioniMassimeZaino[2]/5)]\n",
        "\n",
        "random.seed(123)\n",
        "profittiOggetti = []\n",
        "dimensioniOggetti = []\n",
        "\n",
        "for i in range(numOggetti):\n",
        "    profitto = random.randint(100, 500)\n",
        "    dimensioni = [random.randint(0, dimensioniMassime[0]), random.randint(0, dimensioniMassime[1]), random.randint(0, dimensioniMassime[2])]\n",
        "    profittiOggetti.append(profitto)\n",
        "    dimensioniOggetti.append(dimensioni)"
      ],
      "metadata": {
        "id": "IAFEZf0nkNNJ"
      },
      "execution_count": null,
      "outputs": []
    },
    {
      "cell_type": "markdown",
      "source": [
        "Richiamiamo la nostra funzione e calcoliamo il tempo di esecuzione:"
      ],
      "metadata": {
        "id": "9sZFDUhzluIt"
      }
    },
    {
      "cell_type": "code",
      "source": [
        "import time\n",
        "\n",
        "start_time = time.time()\n",
        "print(MKP_Programmazione_dinamica_ibrida(profittiOggetti, dimensioniOggetti, dimensioniMassimeZaino))\n",
        "end_time = time.time()\n",
        "execution_time = end_time - start_time\n",
        "print(\"Tempo di esecuzione algoritmo (time):\", execution_time, \"secondi\")"
      ],
      "metadata": {
        "colab": {
          "base_uri": "https://localhost:8080/"
        },
        "id": "OUxlXNLFkI3V",
        "outputId": "f0c4c645-9134-40ab-d307-2f181eb7b86f"
      },
      "execution_count": null,
      "outputs": [
        {
          "output_type": "stream",
          "name": "stdout",
          "text": [
            "4445\n",
            "Tempo di esecuzione algoritmo (time): 2.8180720806121826 secondi\n"
          ]
        }
      ]
    },
    {
      "cell_type": "markdown",
      "source": [
        "Ora calcoliamo il tempo di esecuzione attraverso l'uso del solver:"
      ],
      "metadata": {
        "id": "ufde9RfunhWh"
      }
    },
    {
      "cell_type": "code",
      "source": [
        "start_time = time.time()\n",
        "print(knapsack_multidimensional(profittiOggetti, dimensioniOggetti, dimensioniMassimeZaino))\n",
        "end_time = time.time()\n",
        "execution_time = end_time - start_time\n",
        "print(\"Tempo di esecuzione solver (time):\", execution_time, \"secondi\")"
      ],
      "metadata": {
        "colab": {
          "base_uri": "https://localhost:8080/"
        },
        "id": "jZIp3gbOnmbq",
        "outputId": "5dc54006-c30a-4449-dead-81d31ea933de"
      },
      "execution_count": null,
      "outputs": [
        {
          "output_type": "stream",
          "name": "stdout",
          "text": [
            "([0, 1, 1, 0, 1, 0, 1, 1, 0, 0, 1, 1, 0, 1, 0, 0, 0, 1, 1, 0, 1, 1, 0], 4445)\n",
            "Tempo di esecuzione solver (time): 0.0356755256652832 secondi\n"
          ]
        }
      ]
    },
    {
      "cell_type": "markdown",
      "source": [
        "Come si nota ed era prevedibile immaginare, il solver è estremamente più rapido rispetto al nostro algoritmo."
      ],
      "metadata": {
        "id": "CGMDY2Gnnwsp"
      }
    },
    {
      "cell_type": "markdown",
      "source": [
        "#Limiti dell'algoritmo ibrido\n",
        "Basta aggiungere pochi oggetti alla stessa istanza usata nel precedente esperimento affinchè l'algoritmo ibrido non riesca a convergere in un tempo ragionevole, obbligandoci a interromperlo prematuramente (cosa che non accade col solver)."
      ],
      "metadata": {
        "id": "22Ybuz_Kp2ww"
      }
    },
    {
      "cell_type": "code",
      "source": [
        "numOggetti = 30\n",
        "dimensioniMassimeZaino = [511, 213, 777]\n",
        "dimensioniMassime = [int(dimensioniMassimeZaino[0]/5), int(dimensioniMassimeZaino[1]/5), int(dimensioniMassimeZaino[2]/5)]\n",
        "\n",
        "random.seed(123)\n",
        "profittiOggetti = []\n",
        "dimensioniOggetti = []\n",
        "\n",
        "for i in range(numOggetti):\n",
        "    profitto = random.randint(100, 500)\n",
        "    dimensioni = [random.randint(0, dimensioniMassime[0]), random.randint(0, dimensioniMassime[1]), random.randint(0, dimensioniMassime[2])]\n",
        "    profittiOggetti.append(profitto)\n",
        "    dimensioniOggetti.append(dimensioni)"
      ],
      "metadata": {
        "id": "t_p5H9B4qOz9"
      },
      "execution_count": null,
      "outputs": []
    },
    {
      "cell_type": "code",
      "source": [
        "start_time = time.time()\n",
        "print(knapsack_multidimensional(profittiOggetti, dimensioniOggetti, dimensioniMassimeZaino))\n",
        "end_time = time.time()\n",
        "execution_time = end_time - start_time\n",
        "print(\"Tempo di esecuzione solver (time):\", execution_time, \"secondi\")"
      ],
      "metadata": {
        "colab": {
          "base_uri": "https://localhost:8080/"
        },
        "id": "yQsJniigqW6W",
        "outputId": "d4d72c1b-20cb-4157-8935-e5436e2b6f6f"
      },
      "execution_count": null,
      "outputs": [
        {
          "output_type": "stream",
          "name": "stdout",
          "text": [
            "([0, 0, 0, 0, 1, 0, 1, 1, 0, 0, 1, 1, 0, 1, 0, 0, 0, 0, 1, 0, 0, 1, 0, 0, 1, 0, 1, 1, 0, 1], 4566)\n",
            "Tempo di esecuzione solver (time): 0.11389827728271484 secondi\n"
          ]
        }
      ]
    },
    {
      "cell_type": "code",
      "source": [
        "start_time = time.time()\n",
        "print(MKP_Programmazione_dinamica_ibrida(profittiOggetti, dimensioniOggetti, dimensioniMassimeZaino, True))\n",
        "end_time = time.time()\n",
        "execution_time = end_time - start_time\n",
        "print(\"Tempo di esecuzione algoritmo (time):\", execution_time, \"secondi\")"
      ],
      "metadata": {
        "id": "QWlB2EJ3qgdV",
        "colab": {
          "base_uri": "https://localhost:8080/"
        },
        "outputId": "fd78cc5d-61b8-46b8-cbde-ba1d264c47c0"
      },
      "execution_count": null,
      "outputs": [
        {
          "output_type": "stream",
          "name": "stdout",
          "text": [
            "0\n",
            "126\n",
            "236\n",
            "362\n",
            "374\n",
            "500\n",
            "610\n",
            "736\n",
            "862\n",
            "887\n",
            "997\n",
            "1123\n",
            "1249\n",
            "1349\n",
            "1416\n",
            "1542\n",
            "1642\n",
            "1723\n",
            "1823\n",
            "1890\n",
            "2016\n",
            "2116\n",
            "2163\n",
            "2263\n",
            "2273\n",
            "2360\n",
            "2460\n",
            "2507\n",
            "2607\n",
            "2617\n",
            "2656\n",
            "2660\n",
            "2727\n",
            "2853\n",
            "2874\n",
            "3000\n",
            "3074\n",
            "3095\n",
            "3221\n",
            "3242\n",
            "3263\n",
            "3337\n",
            "3374\n",
            "3484\n",
            "3588\n",
            "3609\n",
            "3630\n",
            "3684\n",
            "3741\n",
            "3831\n",
            "3885\n",
            "3988\n",
            "3991\n",
            "4101\n",
            "4135\n",
            "4166\n",
            "4201\n",
            "4347\n",
            "4375\n",
            "4411\n",
            "4445\n",
            "4456\n",
            "4505\n",
            "4532\n",
            "4560\n",
            "4566\n",
            "Tempo di esecuzione algoritmo (time): 91.5734326839447 secondi\n"
          ]
        }
      ]
    },
    {
      "cell_type": "markdown",
      "source": [
        "Come si nota a seguito dell'interruzione esiste un gap tra la soluzione ottima trovata dal solver e la migliore soluzione trovata dall'algoritmo di programmazione dinamica ibrida. \n",
        "\n",
        "In base al numero di oggetti e alle loro dimensoni aumenta infatti la complessità computazionale del problema, quindi anche il tempo di convergenza alla soluzione ottima. \n",
        "\n",
        "Occorre dunque individuare il migliore trade off tra il tempo di elaborazione che è possibile investire e l'accuratezza della soluzione desiderata."
      ],
      "metadata": {
        "id": "IeSmCmUvu1fr"
      }
    },
    {
      "cell_type": "markdown",
      "source": [
        "# Conclusioni\n",
        "Dividiamo le conclusioni in due parti: la prima approfondirà le considerazioni finali circa l'algoritmo sviluppato, mentre la seconda si concentrerà maggiormente sull'elaborato. \n",
        "\n",
        "Per quanto concerne l'algoritmo sviluppato, come riportato anche nel materiale approfondito, emerge che il principale vantaggio della programmazione dinamica ibrida mista al metodo Branch and Bound è che ci permette di ottenere buone performance in termini di gap rispetto alla soluzione ottima e tutto sommato anche in termini di tempo di elaborazione. \n",
        "\n",
        "In particolare, la cooperazione e l'uso congiunto di BB e DP ci permette di ottenere un buon metodo in grado di trovare la soluzione ottima o una approssimazione accettabile nel caso di arresto anticipato.\n",
        "\n",
        "Per quanto invece riguarda le conclusioni complessive circa il presente elaborato, ci riteniamo soddisfatti del lavoro svolto e delle conoscenza acquisite su un problema di nostro interesse.\n",
        "\n",
        "Riteniamo dunque positiva e stimolante la possibilità offerta di poter esplorare ed approfondire da un punto di vista più pratico le nozioni teoriche affrontate a lezione."
      ],
      "metadata": {
        "id": "oocsUalbGEYn"
      }
    }
  ]
}